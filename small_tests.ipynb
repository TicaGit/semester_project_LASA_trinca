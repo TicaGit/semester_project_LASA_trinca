{
 "cells": [
  {
   "cell_type": "code",
   "execution_count": 1,
   "metadata": {},
   "outputs": [],
   "source": [
    "import numpy as np"
   ]
  },
  {
   "cell_type": "code",
   "execution_count": 8,
   "metadata": {},
   "outputs": [
    {
     "data": {
      "text/plain": [
       "array([[ 36., -32.],\n",
       "       [-32.,  84.]])"
      ]
     },
     "execution_count": 8,
     "metadata": {},
     "output_type": "execute_result"
    }
   ],
   "source": [
    "Q = np.array([[1/np.sqrt(5), 2/np.sqrt(5)],\n",
    "              [-2/np.sqrt(5),1/np.sqrt(5)]])\n",
    "Q_inv = np.linalg.inv(Q)\n",
    "lambda_mat = np.array([[100.0, 0],\n",
    "                       [0.0,  20.0]])\n",
    "D = Q@lambda_mat@Q_inv\n",
    "D"
   ]
  },
  {
   "cell_type": "code",
   "execution_count": null,
   "metadata": {},
   "outputs": [],
   "source": []
  }
 ],
 "metadata": {
  "kernelspec": {
   "display_name": "Python 3.10.7 64-bit",
   "language": "python",
   "name": "python3"
  },
  "language_info": {
   "codemirror_mode": {
    "name": "ipython",
    "version": 3
   },
   "file_extension": ".py",
   "mimetype": "text/x-python",
   "name": "python",
   "nbconvert_exporter": "python",
   "pygments_lexer": "ipython3",
   "version": "3.10.7"
  },
  "orig_nbformat": 4,
  "vscode": {
   "interpreter": {
    "hash": "7a30b7485557a43924c0104e177ec6bab6e0008128359b6d23b2129353110e8f"
   }
  }
 },
 "nbformat": 4,
 "nbformat_minor": 2
}
